{
 "cells": [
  {
   "cell_type": "code",
   "execution_count": 12,
   "metadata": {},
   "outputs": [
    {
     "name": "stdout",
     "output_type": "stream",
     "text": [
      "53.14955500000001 -53.14955500000001\n",
      "7.0866180000000005\n",
      "496\n"
     ]
    }
   ],
   "source": [
    "x = 49.60625 + (7.08661/2)\n",
    "\n",
    "y = -49.60625 - (7.08661/2)\n",
    "\n",
    "print(x, y)\n",
    "\n",
    "print(18*0.393701)\n",
    "print(32*15 + 16)"
   ]
  },
  {
   "cell_type": "code",
   "execution_count": 7,
   "metadata": {},
   "outputs": [
    {
     "name": "stdout",
     "output_type": "stream",
     "text": [
      "[[49.60625, -49.60625], [56.69286, -49.60625], [49.60625, -56.69286], [56.69286, -56.69286]]\n",
      "[[49.60625, -49.60625], [56.69286, -49.60625], [49.60625, -56.69286], [56.69286, -56.69286]]\n"
     ]
    }
   ],
   "source": [
    "def generateTiles(n, top_left=56.6929, step=7.08661):\n",
    "    tiles = []\n",
    "    y = top_left\n",
    "    for i in range(n):\n",
    "        x = -top_left\n",
    "        for j in range(n):\n",
    "            tiles.append([[x, y], [x+step, y], [x, y-step], [x+step, y-step]])\n",
    "            x+=step\n",
    "        y-=step\n",
    "\n",
    "    return tiles\n",
    "\n",
    "print(generateTiles(16)[255])\n",
    "\n",
    "print(generateTiles(32)[495])\n",
    "\n"
   ]
  }
 ],
 "metadata": {
  "kernelspec": {
   "display_name": "Python 3",
   "language": "python",
   "name": "python3"
  },
  "language_info": {
   "codemirror_mode": {
    "name": "ipython",
    "version": 3
   },
   "file_extension": ".py",
   "mimetype": "text/x-python",
   "name": "python",
   "nbconvert_exporter": "python",
   "pygments_lexer": "ipython3",
   "version": "3.11.2"
  },
  "orig_nbformat": 4
 },
 "nbformat": 4,
 "nbformat_minor": 2
}
