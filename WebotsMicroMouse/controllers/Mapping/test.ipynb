{
 "cells": [
  {
   "cell_type": "code",
   "execution_count": 1,
   "metadata": {},
   "outputs": [
    {
     "name": "stdout",
     "output_type": "stream",
     "text": [
      "53.14955500000001 -53.14955500000001\n",
      "7.0866180000000005\n",
      "496\n"
     ]
    }
   ],
   "source": [
    "x = 49.60625 + (7.08661/2)\n",
    "\n",
    "y = -49.60625 - (7.08661/2)\n",
    "\n",
    "print(x, y)\n",
    "\n",
    "print(18*0.393701)\n",
    "print(32*15 + 16)"
   ]
  },
  {
   "cell_type": "code",
   "execution_count": 2,
   "metadata": {},
   "outputs": [
    {
     "name": "stdout",
     "output_type": "stream",
     "text": [
      "229.8911966018804\n",
      "241\n"
     ]
    }
   ],
   "source": [
    "x = 7.356518291260173\n",
    "y = x*1000\n",
    "\n",
    "print(y/32)\n",
    "\n",
    "print(16*15+1)\n"
   ]
  },
  {
   "cell_type": "code",
   "execution_count": 7,
   "metadata": {},
   "outputs": [
    {
     "name": "stdout",
     "output_type": "stream",
     "text": [
      "[[-56.6929, -49.60625], [-49.60629, -49.60625], [-56.6929, -56.69286], [-49.60629, -56.69286]]\n",
      "[[49.60625, -49.60625], [56.69286, -49.60625], [49.60625, -56.69286], [56.69286, -56.69286]]\n",
      "[[49.60625, -49.60625], [56.69286, -49.60625], [49.60625, -56.69286], [56.69286, -56.69286]]\n"
     ]
    }
   ],
   "source": [
    "def generateTiles(n, top_left=56.6929, step=7.08661):\n",
    "    tiles = []\n",
    "    y = top_left\n",
    "    for i in range(n):\n",
    "        x = -top_left\n",
    "        for j in range(n):\n",
    "            tiles.append([[x, y], [x+step, y], [x, y-step], [x+step, y-step]])\n",
    "            x+=step\n",
    "        y-=step\n",
    "\n",
    "    return tiles\n",
    "\n",
    "print(generateTiles(16)[240])\n",
    "print(generateTiles(16)[255])\n",
    "\n",
    "print(generateTiles(32)[495])\n",
    "\n"
   ]
  },
  {
   "cell_type": "code",
   "execution_count": 14,
   "metadata": {},
   "outputs": [
    {
     "name": "stdout",
     "output_type": "stream",
     "text": [
      "-53.149595000000005 -46.062945\n"
     ]
    }
   ],
   "source": [
    "x = -56.6929 + 7.08661/2\n",
    "y = -49.60625 + 7.08661/2\n",
    "\n",
    "print(x, y)"
   ]
  },
  {
   "cell_type": "code",
   "execution_count": 17,
   "metadata": {},
   "outputs": [
    {
     "name": "stdout",
     "output_type": "stream",
     "text": [
      "[1, 3, 4]\n",
      "2.23606797749979\n"
     ]
    }
   ],
   "source": [
    "a = [1, 2, 3, 4]\n",
    "a.pop(a.index(2))\n",
    "print(a)\n",
    "\n",
    "import math\n",
    "a = [1,1]\n",
    "b = [2,3]\n",
    "print(math.dist(a, b))"
   ]
  }
 ],
 "metadata": {
  "kernelspec": {
   "display_name": "Python 3",
   "language": "python",
   "name": "python3"
  },
  "language_info": {
   "codemirror_mode": {
    "name": "ipython",
    "version": 3
   },
   "file_extension": ".py",
   "mimetype": "text/x-python",
   "name": "python",
   "nbconvert_exporter": "python",
   "pygments_lexer": "ipython3",
   "version": "3.11.2"
  },
  "orig_nbformat": 4
 },
 "nbformat": 4,
 "nbformat_minor": 2
}
