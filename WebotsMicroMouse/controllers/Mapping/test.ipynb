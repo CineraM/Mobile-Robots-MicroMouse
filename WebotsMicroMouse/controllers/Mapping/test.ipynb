{
 "cells": [
  {
   "cell_type": "code",
   "execution_count": 1,
   "metadata": {},
   "outputs": [
    {
     "name": "stdout",
     "output_type": "stream",
     "text": [
      "53.14955500000001 -53.14955500000001\n",
      "7.0866180000000005\n",
      "496\n"
     ]
    }
   ],
   "source": [
    "x = 49.60625 + (7.08661/2)\n",
    "\n",
    "y = -49.60625 - (7.08661/2)\n",
    "\n",
    "print(x, y)\n",
    "\n",
    "print(18*0.393701)\n",
    "print(32*15 + 16)"
   ]
  },
  {
   "cell_type": "code",
   "execution_count": 2,
   "metadata": {},
   "outputs": [
    {
     "name": "stdout",
     "output_type": "stream",
     "text": [
      "229.8911966018804\n",
      "241\n"
     ]
    }
   ],
   "source": [
    "x = 7.356518291260173\n",
    "y = x*1000\n",
    "\n",
    "print(y/32)\n",
    "\n",
    "print(16*15+1)\n"
   ]
  },
  {
   "cell_type": "code",
   "execution_count": 7,
   "metadata": {},
   "outputs": [
    {
     "name": "stdout",
     "output_type": "stream",
     "text": [
      "[[-56.6929, -49.60625], [-49.60629, -49.60625], [-56.6929, -56.69286], [-49.60629, -56.69286]]\n",
      "[[49.60625, -49.60625], [56.69286, -49.60625], [49.60625, -56.69286], [56.69286, -56.69286]]\n",
      "[[49.60625, -49.60625], [56.69286, -49.60625], [49.60625, -56.69286], [56.69286, -56.69286]]\n"
     ]
    }
   ],
   "source": [
    "def generateTiles(n, top_left=56.6929, step=7.08661):\n",
    "    tiles = []\n",
    "    y = top_left\n",
    "    for i in range(n):\n",
    "        x = -top_left\n",
    "        for j in range(n):\n",
    "            tiles.append([[x, y], [x+step, y], [x, y-step], [x+step, y-step]])\n",
    "            x+=step\n",
    "        y-=step\n",
    "\n",
    "    return tiles\n",
    "\n",
    "print(generateTiles(16)[240])\n",
    "print(generateTiles(16)[255])\n",
    "\n",
    "print(generateTiles(32)[495])\n",
    "\n"
   ]
  },
  {
   "cell_type": "code",
   "execution_count": 14,
   "metadata": {},
   "outputs": [
    {
     "name": "stdout",
     "output_type": "stream",
     "text": [
      "-53.149595000000005 -46.062945\n"
     ]
    }
   ],
   "source": [
    "x = -56.6929 + 7.08661/2\n",
    "y = -49.60625 + 7.08661/2\n",
    "\n",
    "print(x, y)"
   ]
  },
  {
   "cell_type": "code",
   "execution_count": 17,
   "metadata": {},
   "outputs": [
    {
     "name": "stdout",
     "output_type": "stream",
     "text": [
      "[1, 3, 4]\n",
      "2.23606797749979\n"
     ]
    }
   ],
   "source": [
    "a = [1, 2, 3, 4]\n",
    "a.pop(a.index(2))\n",
    "print(a)\n",
    "\n",
    "import math\n",
    "a = [1,1]\n",
    "b = [2,3]\n",
    "print(math.dist(a, b))"
   ]
  },
  {
   "cell_type": "code",
   "execution_count": 6,
   "metadata": {},
   "outputs": [
    {
     "name": "stdout",
     "output_type": "stream",
     "text": [
      "1\t2\t3\t4\t5\t6\t7\t8\t9\t10\t11\t12\t13\t14\t15\t16\t \n",
      "17\t18\t19\t20\t21\t22\t23\t24\t25\t26\t27\t28\t29\t30\t31\t32\t \n",
      "33\t34\t35\t36\t37\t38\t39\t40\t41\t42\t43\t44\t45\t46\t47\t48\t \n",
      "49\t50\t51\t52\t53\t54\t55\t56\t57\t58\t59\t60\t61\t62\t63\t64\t \n",
      "65\t66\t67\t68\t69\t70\t71\t72\t73\t74\t75\t76\t77\t78\t79\t80\t \n",
      "81\t82\t83\t84\t85\t86\t87\t88\t89\t90\t91\t92\t93\t94\t95\t96\t \n",
      "97\t98\t99\t100\t101\t102\t103\t104\t105\t106\t107\t108\t109\t110\t111\t112\t \n",
      "113\t114\t115\t116\t117\t118\t119\t120\t121\t122\t123\t124\t125\t126\t127\t128\t \n",
      "129\t130\t131\t132\t133\t134\t135\t136\t137\t138\t139\t140\t141\t142\t143\t144\t \n",
      "145\t146\t147\t148\t149\t150\t151\t152\t153\t154\t155\t156\t157\t158\t159\t160\t \n",
      "161\t162\t163\t164\t165\t166\t167\t168\t169\t170\t171\t172\t173\t174\t175\t176\t \n",
      "177\t178\t179\t180\t181\t182\t183\t184\t185\t186\t187\t188\t189\t190\t191\t192\t \n",
      "193\t194\t195\t196\t197\t198\t199\t200\t201\t202\t203\t204\t205\t206\t207\t208\t \n",
      "209\t210\t211\t212\t213\t214\t215\t216\t217\t218\t219\t220\t221\t222\t223\t224\t \n",
      "225\t226\t227\t228\t229\t230\t231\t232\t233\t234\t235\t236\t237\t238\t239\t240\t \n",
      "241\t242\t243\t244\t245\t246\t247\t248\t249\t250\t251\t252\t253\t254\t255\t256\t \n"
     ]
    }
   ],
   "source": [
    "for i in range(16):\n",
    "    for j in range(16):\n",
    "        print(i*16+j+1, end='\\t')\n",
    "    print(\" \")"
   ]
  }
 ],
 "metadata": {
  "kernelspec": {
   "display_name": "Python 3",
   "language": "python",
   "name": "python3"
  },
  "language_info": {
   "codemirror_mode": {
    "name": "ipython",
    "version": 3
   },
   "file_extension": ".py",
   "mimetype": "text/x-python",
   "name": "python",
   "nbconvert_exporter": "python",
   "pygments_lexer": "ipython3",
   "version": "3.9.13"
  },
  "orig_nbformat": 4
 },
 "nbformat": 4,
 "nbformat_minor": 2
}
